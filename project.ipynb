{
 "cells": [
  {
   "cell_type": "code",
   "execution_count": 1,
   "metadata": {},
   "outputs": [
    {
     "name": "stdout",
     "output_type": "stream",
     "text": [
      "Requirement already satisfied: hdfs in /opt/conda/lib/python3.8/site-packages (2.7.3)\n",
      "Requirement already satisfied: requests>=2.7.0 in /opt/conda/lib/python3.8/site-packages (from hdfs) (2.24.0)\n",
      "Requirement already satisfied: six>=1.9.0 in /opt/conda/lib/python3.8/site-packages (from hdfs) (1.15.0)\n",
      "Requirement already satisfied: docopt in /opt/conda/lib/python3.8/site-packages (from hdfs) (0.6.2)\n",
      "Requirement already satisfied: idna<3,>=2.5 in /opt/conda/lib/python3.8/site-packages (from requests>=2.7.0->hdfs) (2.10)\n",
      "Requirement already satisfied: certifi>=2017.4.17 in /opt/conda/lib/python3.8/site-packages (from requests>=2.7.0->hdfs) (2020.6.20)\n",
      "Requirement already satisfied: urllib3!=1.25.0,!=1.25.1,<1.26,>=1.21.1 in /opt/conda/lib/python3.8/site-packages (from requests>=2.7.0->hdfs) (1.25.11)\n",
      "Requirement already satisfied: chardet<4,>=3.0.2 in /opt/conda/lib/python3.8/site-packages (from requests>=2.7.0->hdfs) (3.0.4)\n",
      "Requirement already satisfied: prettytable in /opt/conda/lib/python3.8/site-packages (3.11.0)\n",
      "Requirement already satisfied: wcwidth in /opt/conda/lib/python3.8/site-packages (from prettytable) (0.2.5)\n"
     ]
    }
   ],
   "source": [
    "!pip install hdfs\n",
    "!pip install prettytable"
   ]
  },
  {
   "cell_type": "code",
   "execution_count": 2,
   "metadata": {},
   "outputs": [],
   "source": [
    "import pandas as pd\n",
    "import numpy as np\n",
    "from pyspark import SparkConf\n",
    "from pyspark.context import SparkContext\n",
    "from pyspark.sql import SparkSession\n",
    "from hdfs import InsecureClient\n",
    "from pyspark.sql.functions import col, sum, when\n",
    "from prettytable import PrettyTable\n",
    "import matplotlib.pyplot as plt\n",
    "import seaborn as sns\n",
    "\n",
    "sc = SparkContext.getOrCreate(SparkConf().setMaster(\"local[*]\"))\n",
    "spark = SparkSession.builder.appName(\"dataproject\").config(\"spark.hadoop.fs.defaultFS\", \"hdfs://namenode:9000\").getOrCreate()\n",
    "\n"
   ]
  },
  {
   "cell_type": "code",
   "execution_count": 3,
   "metadata": {},
   "outputs": [],
   "source": [
    "event_data = spark.read.option(\"header\", \"true\").option(\"multiline\", \"true\").option(\"escape\", \"\\\"\").csv(\"hdfs://namenode:9000/ufc_event_data.csv\")\n",
    "fight_data = spark.read.option(\"header\", \"true\").option(\"multiline\", \"true\").option(\"escape\", \"\\\"\").csv(\"hdfs://namenode:9000/ufc_fight_data.csv\")\n",
    "fight_stats = spark.read.option(\"header\", \"true\").option(\"multiline\", \"true\").option(\"escape\", \"\\\"\").csv(\"hdfs://namenode:9000/ufc_fight_stat_data.csv\")\n",
    "fighter_data = spark.read.option(\"header\", \"true\").option(\"multiline\", \"true\").option(\"escape\", \"\\\"\").csv(\"hdfs://namenode:9000/ufc_fighter_data.csv\")\n"
   ]
  },
  {
   "cell_type": "markdown",
   "metadata": {},
   "source": [
    "<h1>Exploration and Preprocessing</h1>"
   ]
  },
  {
   "cell_type": "code",
   "execution_count": 4,
   "metadata": {
    "scrolled": false
   },
   "outputs": [
    {
     "name": "stdout",
     "output_type": "stream",
     "text": [
      "root\n",
      " |-- event_id: string (nullable = true)\n",
      " |-- event_name: string (nullable = true)\n",
      " |-- event_date: string (nullable = true)\n",
      " |-- event_city: string (nullable = true)\n",
      " |-- event_state: string (nullable = true)\n",
      " |-- event_country: string (nullable = true)\n",
      " |-- event_url: string (nullable = true)\n",
      "\n"
     ]
    }
   ],
   "source": [
    "event_data.printSchema()"
   ]
  },
  {
   "cell_type": "code",
   "execution_count": 5,
   "metadata": {
    "scrolled": true
   },
   "outputs": [
    {
     "name": "stdout",
     "output_type": "stream",
     "text": [
      "event_id          0\n",
      "event_name        0\n",
      "event_date        0\n",
      "event_city        0\n",
      "event_state      49\n",
      "event_country     0\n",
      "event_url         0\n",
      "dtype: int64\n"
     ]
    },
    {
     "data": {
      "text/html": [
       "<div>\n",
       "<style scoped>\n",
       "    .dataframe tbody tr th:only-of-type {\n",
       "        vertical-align: middle;\n",
       "    }\n",
       "\n",
       "    .dataframe tbody tr th {\n",
       "        vertical-align: top;\n",
       "    }\n",
       "\n",
       "    .dataframe thead th {\n",
       "        text-align: right;\n",
       "    }\n",
       "</style>\n",
       "<table border=\"1\" class=\"dataframe\">\n",
       "  <thead>\n",
       "    <tr style=\"text-align: right;\">\n",
       "      <th></th>\n",
       "      <th>event_id</th>\n",
       "      <th>event_name</th>\n",
       "      <th>event_date</th>\n",
       "      <th>event_city</th>\n",
       "      <th>event_state</th>\n",
       "      <th>event_country</th>\n",
       "      <th>event_url</th>\n",
       "    </tr>\n",
       "  </thead>\n",
       "  <tbody>\n",
       "    <tr>\n",
       "      <th>count</th>\n",
       "      <td>665</td>\n",
       "      <td>665</td>\n",
       "      <td>665</td>\n",
       "      <td>665</td>\n",
       "      <td>616</td>\n",
       "      <td>665</td>\n",
       "      <td>665</td>\n",
       "    </tr>\n",
       "    <tr>\n",
       "      <th>unique</th>\n",
       "      <td>665</td>\n",
       "      <td>665</td>\n",
       "      <td>660</td>\n",
       "      <td>162</td>\n",
       "      <td>83</td>\n",
       "      <td>27</td>\n",
       "      <td>665</td>\n",
       "    </tr>\n",
       "    <tr>\n",
       "      <th>top</th>\n",
       "      <td>134</td>\n",
       "      <td>UFC 282: Blachowicz vs. Ankalaev</td>\n",
       "      <td>2014-08-23</td>\n",
       "      <td>Las Vegas</td>\n",
       "      <td>Nevada</td>\n",
       "      <td>USA</td>\n",
       "      <td>http://ufcstats.com/event-details/896c322f56b8...</td>\n",
       "    </tr>\n",
       "    <tr>\n",
       "      <th>freq</th>\n",
       "      <td>1</td>\n",
       "      <td>1</td>\n",
       "      <td>2</td>\n",
       "      <td>222</td>\n",
       "      <td>222</td>\n",
       "      <td>469</td>\n",
       "      <td>1</td>\n",
       "    </tr>\n",
       "  </tbody>\n",
       "</table>\n",
       "</div>"
      ],
      "text/plain": [
       "       event_id                        event_name  event_date event_city  \\\n",
       "count       665                               665         665        665   \n",
       "unique      665                               665         660        162   \n",
       "top         134  UFC 282: Blachowicz vs. Ankalaev  2014-08-23  Las Vegas   \n",
       "freq          1                                 1           2        222   \n",
       "\n",
       "       event_state event_country  \\\n",
       "count          616           665   \n",
       "unique          83            27   \n",
       "top         Nevada           USA   \n",
       "freq           222           469   \n",
       "\n",
       "                                                event_url  \n",
       "count                                                 665  \n",
       "unique                                                665  \n",
       "top     http://ufcstats.com/event-details/896c322f56b8...  \n",
       "freq                                                    1  "
      ]
     },
     "execution_count": 5,
     "metadata": {},
     "output_type": "execute_result"
    }
   ],
   "source": [
    "event_data_pdf = event_data.toPandas()\n",
    "null_counts = event_data_pdf.isnull().sum()\n",
    "print(null_counts)\n",
    "event_data_pdf.describe()"
   ]
  },
  {
   "cell_type": "code",
   "execution_count": 6,
   "metadata": {},
   "outputs": [],
   "source": [
    "event_data = event_data.drop(\"event_state\", \"event_country\", \"event_url\")"
   ]
  },
  {
   "cell_type": "code",
   "execution_count": 7,
   "metadata": {},
   "outputs": [
    {
     "name": "stdout",
     "output_type": "stream",
     "text": [
      "root\n",
      " |-- fight_id: string (nullable = true)\n",
      " |-- event_id: string (nullable = true)\n",
      " |-- referee: string (nullable = true)\n",
      " |-- f_1: string (nullable = true)\n",
      " |-- f_2: string (nullable = true)\n",
      " |-- winner: string (nullable = true)\n",
      " |-- num_rounds: string (nullable = true)\n",
      " |-- title_fight: string (nullable = true)\n",
      " |-- weight_class: string (nullable = true)\n",
      " |-- gender: string (nullable = true)\n",
      " |-- result: string (nullable = true)\n",
      " |-- result_details: string (nullable = true)\n",
      " |-- finish_round: string (nullable = true)\n",
      " |-- finish_time: string (nullable = true)\n",
      " |-- fight_url: string (nullable = true)\n",
      "\n"
     ]
    }
   ],
   "source": [
    "fight_data.printSchema()"
   ]
  },
  {
   "cell_type": "code",
   "execution_count": 8,
   "metadata": {},
   "outputs": [
    {
     "name": "stdout",
     "output_type": "stream",
     "text": [
      "fight_id           0\n",
      "event_id           0\n",
      "referee           32\n",
      "f_1               19\n",
      "f_2               13\n",
      "winner            15\n",
      "num_rounds         0\n",
      "title_fight        0\n",
      "weight_class      13\n",
      "gender             0\n",
      "result             0\n",
      "result_details    17\n",
      "finish_round       0\n",
      "finish_time        0\n",
      "fight_url          0\n",
      "dtype: int64\n"
     ]
    },
    {
     "data": {
      "text/html": [
       "<div>\n",
       "<style scoped>\n",
       "    .dataframe tbody tr th:only-of-type {\n",
       "        vertical-align: middle;\n",
       "    }\n",
       "\n",
       "    .dataframe tbody tr th {\n",
       "        vertical-align: top;\n",
       "    }\n",
       "\n",
       "    .dataframe thead th {\n",
       "        text-align: right;\n",
       "    }\n",
       "</style>\n",
       "<table border=\"1\" class=\"dataframe\">\n",
       "  <thead>\n",
       "    <tr style=\"text-align: right;\">\n",
       "      <th></th>\n",
       "      <th>fight_id</th>\n",
       "      <th>event_id</th>\n",
       "      <th>referee</th>\n",
       "      <th>f_1</th>\n",
       "      <th>f_2</th>\n",
       "      <th>winner</th>\n",
       "      <th>num_rounds</th>\n",
       "      <th>title_fight</th>\n",
       "      <th>weight_class</th>\n",
       "      <th>gender</th>\n",
       "      <th>result</th>\n",
       "      <th>result_details</th>\n",
       "      <th>finish_round</th>\n",
       "      <th>finish_time</th>\n",
       "      <th>fight_url</th>\n",
       "    </tr>\n",
       "  </thead>\n",
       "  <tbody>\n",
       "    <tr>\n",
       "      <th>count</th>\n",
       "      <td>7218</td>\n",
       "      <td>7218</td>\n",
       "      <td>7186</td>\n",
       "      <td>7199</td>\n",
       "      <td>7205</td>\n",
       "      <td>7203</td>\n",
       "      <td>7218</td>\n",
       "      <td>7218</td>\n",
       "      <td>7205</td>\n",
       "      <td>7218</td>\n",
       "      <td>7218</td>\n",
       "      <td>7201</td>\n",
       "      <td>7218</td>\n",
       "      <td>7218</td>\n",
       "      <td>7218</td>\n",
       "    </tr>\n",
       "    <tr>\n",
       "      <th>unique</th>\n",
       "      <td>7218</td>\n",
       "      <td>664</td>\n",
       "      <td>217</td>\n",
       "      <td>1741</td>\n",
       "      <td>2252</td>\n",
       "      <td>1676</td>\n",
       "      <td>5</td>\n",
       "      <td>2</td>\n",
       "      <td>14</td>\n",
       "      <td>2</td>\n",
       "      <td>5</td>\n",
       "      <td>342</td>\n",
       "      <td>5</td>\n",
       "      <td>327</td>\n",
       "      <td>7218</td>\n",
       "    </tr>\n",
       "    <tr>\n",
       "      <th>top</th>\n",
       "      <td>5875</td>\n",
       "      <td>1</td>\n",
       "      <td>Herb Dean</td>\n",
       "      <td>1693.0</td>\n",
       "      <td>542.0</td>\n",
       "      <td>1693.0</td>\n",
       "      <td>3</td>\n",
       "      <td>F</td>\n",
       "      <td>Lightweight</td>\n",
       "      <td>M</td>\n",
       "      <td>Decision</td>\n",
       "      <td>Unanimous</td>\n",
       "      <td>3</td>\n",
       "      <td>5:00</td>\n",
       "      <td>http://ufcstats.com/fight-details/d77a72e3fa8d...</td>\n",
       "    </tr>\n",
       "    <tr>\n",
       "      <th>freq</th>\n",
       "      <td>1</td>\n",
       "      <td>15</td>\n",
       "      <td>1065</td>\n",
       "      <td>32</td>\n",
       "      <td>20</td>\n",
       "      <td>25</td>\n",
       "      <td>6382</td>\n",
       "      <td>6811</td>\n",
       "      <td>1247</td>\n",
       "      <td>6521</td>\n",
       "      <td>3315</td>\n",
       "      <td>2574</td>\n",
       "      <td>3620</td>\n",
       "      <td>3346</td>\n",
       "      <td>1</td>\n",
       "    </tr>\n",
       "  </tbody>\n",
       "</table>\n",
       "</div>"
      ],
      "text/plain": [
       "       fight_id event_id    referee     f_1    f_2  winner num_rounds  \\\n",
       "count      7218     7218       7186    7199   7205    7203       7218   \n",
       "unique     7218      664        217    1741   2252    1676          5   \n",
       "top        5875        1  Herb Dean  1693.0  542.0  1693.0          3   \n",
       "freq          1       15       1065      32     20      25       6382   \n",
       "\n",
       "       title_fight weight_class gender    result result_details finish_round  \\\n",
       "count         7218         7205   7218      7218           7201         7218   \n",
       "unique           2           14      2         5            342            5   \n",
       "top              F  Lightweight      M  Decision      Unanimous            3   \n",
       "freq          6811         1247   6521      3315           2574         3620   \n",
       "\n",
       "       finish_time                                          fight_url  \n",
       "count         7218                                               7218  \n",
       "unique         327                                               7218  \n",
       "top           5:00  http://ufcstats.com/fight-details/d77a72e3fa8d...  \n",
       "freq          3346                                                  1  "
      ]
     },
     "execution_count": 8,
     "metadata": {},
     "output_type": "execute_result"
    }
   ],
   "source": [
    "fight_data_pdf = fight_data.toPandas()\n",
    "\n",
    "null_counts = fight_data_pdf.isnull().sum()\n",
    "\n",
    "print(null_counts)\n",
    "fight_data_pdf.describe()"
   ]
  },
  {
   "cell_type": "code",
   "execution_count": 9,
   "metadata": {},
   "outputs": [
    {
     "data": {
      "text/plain": [
       "DataFrame[fight_id: string, event_id: string, f_1: string, f_2: string, winner: string, num_rounds: string, title_fight: string, weight_class: string, gender: string, result: string, finish_round: string, finish_time: string]"
      ]
     },
     "execution_count": 9,
     "metadata": {},
     "output_type": "execute_result"
    }
   ],
   "source": [
    "fight_data = fight_data.drop(\"referee\", \"fight_url\", \"result_details\")\n",
    "fight_data.dropna(subset=[\"f_1\", \"f_2\", \"winner\"])\n"
   ]
  },
  {
   "cell_type": "code",
   "execution_count": 10,
   "metadata": {
    "scrolled": true
   },
   "outputs": [
    {
     "name": "stdout",
     "output_type": "stream",
     "text": [
      "root\n",
      " |-- fight_stat_id: string (nullable = true)\n",
      " |-- fight_id: string (nullable = true)\n",
      " |-- fighter_id: string (nullable = true)\n",
      " |-- knockdowns: string (nullable = true)\n",
      " |-- total_strikes_att: string (nullable = true)\n",
      " |-- total_strikes_succ: string (nullable = true)\n",
      " |-- sig_strikes_att: string (nullable = true)\n",
      " |-- sig_strikes_succ: string (nullable = true)\n",
      " |-- takedown_att: string (nullable = true)\n",
      " |-- takedown_succ: string (nullable = true)\n",
      " |-- submission_att: string (nullable = true)\n",
      " |-- reversals: string (nullable = true)\n",
      " |-- ctrl_time: string (nullable = true)\n",
      " |-- fight_url: string (nullable = true)\n",
      "\n"
     ]
    }
   ],
   "source": [
    "fight_stats.printSchema()"
   ]
  },
  {
   "cell_type": "code",
   "execution_count": 11,
   "metadata": {},
   "outputs": [
    {
     "name": "stdout",
     "output_type": "stream",
     "text": [
      "fight_stat_id          0\n",
      "fight_id               0\n",
      "fighter_id            32\n",
      "knockdowns            42\n",
      "total_strikes_att     42\n",
      "total_strikes_succ    42\n",
      "sig_strikes_att       42\n",
      "sig_strikes_succ      42\n",
      "takedown_att          42\n",
      "takedown_succ         42\n",
      "submission_att        42\n",
      "reversals             42\n",
      "ctrl_time             42\n",
      "fight_url              0\n",
      "dtype: int64\n"
     ]
    },
    {
     "data": {
      "text/html": [
       "<div>\n",
       "<style scoped>\n",
       "    .dataframe tbody tr th:only-of-type {\n",
       "        vertical-align: middle;\n",
       "    }\n",
       "\n",
       "    .dataframe tbody tr th {\n",
       "        vertical-align: top;\n",
       "    }\n",
       "\n",
       "    .dataframe thead th {\n",
       "        text-align: right;\n",
       "    }\n",
       "</style>\n",
       "<table border=\"1\" class=\"dataframe\">\n",
       "  <thead>\n",
       "    <tr style=\"text-align: right;\">\n",
       "      <th></th>\n",
       "      <th>fight_stat_id</th>\n",
       "      <th>fight_id</th>\n",
       "      <th>fighter_id</th>\n",
       "      <th>knockdowns</th>\n",
       "      <th>total_strikes_att</th>\n",
       "      <th>total_strikes_succ</th>\n",
       "      <th>sig_strikes_att</th>\n",
       "      <th>sig_strikes_succ</th>\n",
       "      <th>takedown_att</th>\n",
       "      <th>takedown_succ</th>\n",
       "      <th>submission_att</th>\n",
       "      <th>reversals</th>\n",
       "      <th>ctrl_time</th>\n",
       "      <th>fight_url</th>\n",
       "    </tr>\n",
       "  </thead>\n",
       "  <tbody>\n",
       "    <tr>\n",
       "      <th>count</th>\n",
       "      <td>14436</td>\n",
       "      <td>14436</td>\n",
       "      <td>14404</td>\n",
       "      <td>14394</td>\n",
       "      <td>14394</td>\n",
       "      <td>14394</td>\n",
       "      <td>14394</td>\n",
       "      <td>14394</td>\n",
       "      <td>14394</td>\n",
       "      <td>14394</td>\n",
       "      <td>14394</td>\n",
       "      <td>14394</td>\n",
       "      <td>14394</td>\n",
       "      <td>14436</td>\n",
       "    </tr>\n",
       "    <tr>\n",
       "      <th>unique</th>\n",
       "      <td>14436</td>\n",
       "      <td>7218</td>\n",
       "      <td>2412</td>\n",
       "      <td>6</td>\n",
       "      <td>416</td>\n",
       "      <td>259</td>\n",
       "      <td>388</td>\n",
       "      <td>199</td>\n",
       "      <td>32</td>\n",
       "      <td>17</td>\n",
       "      <td>11</td>\n",
       "      <td>7</td>\n",
       "      <td>818</td>\n",
       "      <td>7218</td>\n",
       "    </tr>\n",
       "    <tr>\n",
       "      <th>top</th>\n",
       "      <td>5875</td>\n",
       "      <td>5875</td>\n",
       "      <td>1693.0</td>\n",
       "      <td>0.0</td>\n",
       "      <td>10.0</td>\n",
       "      <td>1.0</td>\n",
       "      <td>3.0</td>\n",
       "      <td>1.0</td>\n",
       "      <td>0.0</td>\n",
       "      <td>0.0</td>\n",
       "      <td>0.0</td>\n",
       "      <td>0.0</td>\n",
       "      <td>0:00</td>\n",
       "      <td>http://ufcstats.com/fight-details/d77a72e3fa8d...</td>\n",
       "    </tr>\n",
       "    <tr>\n",
       "      <th>freq</th>\n",
       "      <td>1</td>\n",
       "      <td>2</td>\n",
       "      <td>41</td>\n",
       "      <td>11741</td>\n",
       "      <td>136</td>\n",
       "      <td>255</td>\n",
       "      <td>171</td>\n",
       "      <td>366</td>\n",
       "      <td>4978</td>\n",
       "      <td>7807</td>\n",
       "      <td>10811</td>\n",
       "      <td>12809</td>\n",
       "      <td>2218</td>\n",
       "      <td>2</td>\n",
       "    </tr>\n",
       "  </tbody>\n",
       "</table>\n",
       "</div>"
      ],
      "text/plain": [
       "       fight_stat_id fight_id fighter_id knockdowns total_strikes_att  \\\n",
       "count          14436    14436      14404      14394             14394   \n",
       "unique         14436     7218       2412          6               416   \n",
       "top             5875     5875     1693.0        0.0              10.0   \n",
       "freq               1        2         41      11741               136   \n",
       "\n",
       "       total_strikes_succ sig_strikes_att sig_strikes_succ takedown_att  \\\n",
       "count               14394           14394            14394        14394   \n",
       "unique                259             388              199           32   \n",
       "top                   1.0             3.0              1.0          0.0   \n",
       "freq                  255             171              366         4978   \n",
       "\n",
       "       takedown_succ submission_att reversals ctrl_time  \\\n",
       "count          14394          14394     14394     14394   \n",
       "unique            17             11         7       818   \n",
       "top              0.0            0.0       0.0      0:00   \n",
       "freq            7807          10811     12809      2218   \n",
       "\n",
       "                                                fight_url  \n",
       "count                                               14436  \n",
       "unique                                               7218  \n",
       "top     http://ufcstats.com/fight-details/d77a72e3fa8d...  \n",
       "freq                                                    2  "
      ]
     },
     "execution_count": 11,
     "metadata": {},
     "output_type": "execute_result"
    }
   ],
   "source": [
    "fight_stats_pdf = fight_stats.toPandas()\n",
    "\n",
    "null_counts = fight_stats_pdf.isnull().sum()\n",
    "\n",
    "print(null_counts)\n",
    "fight_stats_pdf.describe()"
   ]
  },
  {
   "cell_type": "code",
   "execution_count": 12,
   "metadata": {},
   "outputs": [],
   "source": [
    "fight_stats.dropna()\n",
    "fight_stats = fight_stats.drop(\"fight_url\")"
   ]
  },
  {
   "cell_type": "code",
   "execution_count": 13,
   "metadata": {
    "scrolled": true
   },
   "outputs": [
    {
     "name": "stdout",
     "output_type": "stream",
     "text": [
      "root\n",
      " |-- fighter_id: string (nullable = true)\n",
      " |-- fighter_f_name: string (nullable = true)\n",
      " |-- fighter_l_name: string (nullable = true)\n",
      " |-- fighter_nickname: string (nullable = true)\n",
      " |-- fighter_height_cm: string (nullable = true)\n",
      " |-- fighter_weight_lbs: string (nullable = true)\n",
      " |-- fighter_reach_cm: string (nullable = true)\n",
      " |-- fighter_stance: string (nullable = true)\n",
      " |-- fighter_dob: string (nullable = true)\n",
      " |-- fighter_w: string (nullable = true)\n",
      " |-- fighter_l: string (nullable = true)\n",
      " |-- fighter_d: string (nullable = true)\n",
      " |-- fighter_nc_dq: string (nullable = true)\n",
      " |-- fighter_url: string (nullable = true)\n",
      "\n"
     ]
    }
   ],
   "source": [
    "fighter_data.printSchema()"
   ]
  },
  {
   "cell_type": "code",
   "execution_count": 14,
   "metadata": {
    "scrolled": true
   },
   "outputs": [
    {
     "name": "stdout",
     "output_type": "stream",
     "text": [
      "fighter_id               0\n",
      "fighter_f_name           0\n",
      "fighter_l_name          15\n",
      "fighter_nickname      1857\n",
      "fighter_height_cm      310\n",
      "fighter_weight_lbs      87\n",
      "fighter_reach_cm      1941\n",
      "fighter_stance         834\n",
      "fighter_dob            758\n",
      "fighter_w                0\n",
      "fighter_l                0\n",
      "fighter_d                0\n",
      "fighter_nc_dq         3625\n",
      "fighter_url              0\n",
      "dtype: int64\n"
     ]
    },
    {
     "data": {
      "text/html": [
       "<div>\n",
       "<style scoped>\n",
       "    .dataframe tbody tr th:only-of-type {\n",
       "        vertical-align: middle;\n",
       "    }\n",
       "\n",
       "    .dataframe tbody tr th {\n",
       "        vertical-align: top;\n",
       "    }\n",
       "\n",
       "    .dataframe thead th {\n",
       "        text-align: right;\n",
       "    }\n",
       "</style>\n",
       "<table border=\"1\" class=\"dataframe\">\n",
       "  <thead>\n",
       "    <tr style=\"text-align: right;\">\n",
       "      <th></th>\n",
       "      <th>fighter_id</th>\n",
       "      <th>fighter_f_name</th>\n",
       "      <th>fighter_l_name</th>\n",
       "      <th>fighter_nickname</th>\n",
       "      <th>fighter_height_cm</th>\n",
       "      <th>fighter_weight_lbs</th>\n",
       "      <th>fighter_reach_cm</th>\n",
       "      <th>fighter_stance</th>\n",
       "      <th>fighter_dob</th>\n",
       "      <th>fighter_w</th>\n",
       "      <th>fighter_l</th>\n",
       "      <th>fighter_d</th>\n",
       "      <th>fighter_nc_dq</th>\n",
       "      <th>fighter_url</th>\n",
       "    </tr>\n",
       "  </thead>\n",
       "  <tbody>\n",
       "    <tr>\n",
       "      <th>count</th>\n",
       "      <td>4107</td>\n",
       "      <td>4107</td>\n",
       "      <td>4092</td>\n",
       "      <td>2250</td>\n",
       "      <td>3797</td>\n",
       "      <td>4020</td>\n",
       "      <td>2166</td>\n",
       "      <td>3273</td>\n",
       "      <td>3349</td>\n",
       "      <td>4107</td>\n",
       "      <td>4107</td>\n",
       "      <td>4107</td>\n",
       "      <td>482</td>\n",
       "      <td>4107</td>\n",
       "    </tr>\n",
       "    <tr>\n",
       "      <th>unique</th>\n",
       "      <td>4107</td>\n",
       "      <td>1861</td>\n",
       "      <td>3099</td>\n",
       "      <td>1779</td>\n",
       "      <td>26</td>\n",
       "      <td>112</td>\n",
       "      <td>27</td>\n",
       "      <td>5</td>\n",
       "      <td>2838</td>\n",
       "      <td>57</td>\n",
       "      <td>40</td>\n",
       "      <td>10</td>\n",
       "      <td>4</td>\n",
       "      <td>4107</td>\n",
       "    </tr>\n",
       "    <tr>\n",
       "      <th>top</th>\n",
       "      <td>3773</td>\n",
       "      <td>Chris</td>\n",
       "      <td>Silva</td>\n",
       "      <td>The Beast</td>\n",
       "      <td>182.88</td>\n",
       "      <td>155.0</td>\n",
       "      <td>182.88</td>\n",
       "      <td>Orthodox</td>\n",
       "      <td>1993-03-16</td>\n",
       "      <td>8</td>\n",
       "      <td>3</td>\n",
       "      <td>0</td>\n",
       "      <td>1.0</td>\n",
       "      <td>http://ufcstats.com/fighter-details/de45aaae23...</td>\n",
       "    </tr>\n",
       "    <tr>\n",
       "      <th>freq</th>\n",
       "      <td>1</td>\n",
       "      <td>56</td>\n",
       "      <td>31</td>\n",
       "      <td>13</td>\n",
       "      <td>437</td>\n",
       "      <td>618</td>\n",
       "      <td>205</td>\n",
       "      <td>2513</td>\n",
       "      <td>4</td>\n",
       "      <td>255</td>\n",
       "      <td>516</td>\n",
       "      <td>3431</td>\n",
       "      <td>424</td>\n",
       "      <td>1</td>\n",
       "    </tr>\n",
       "  </tbody>\n",
       "</table>\n",
       "</div>"
      ],
      "text/plain": [
       "       fighter_id fighter_f_name fighter_l_name fighter_nickname  \\\n",
       "count        4107           4107           4092             2250   \n",
       "unique       4107           1861           3099             1779   \n",
       "top          3773          Chris          Silva        The Beast   \n",
       "freq            1             56             31               13   \n",
       "\n",
       "       fighter_height_cm fighter_weight_lbs fighter_reach_cm fighter_stance  \\\n",
       "count               3797               4020             2166           3273   \n",
       "unique                26                112               27              5   \n",
       "top               182.88              155.0           182.88       Orthodox   \n",
       "freq                 437                618              205           2513   \n",
       "\n",
       "       fighter_dob fighter_w fighter_l fighter_d fighter_nc_dq  \\\n",
       "count         3349      4107      4107      4107           482   \n",
       "unique        2838        57        40        10             4   \n",
       "top     1993-03-16         8         3         0           1.0   \n",
       "freq             4       255       516      3431           424   \n",
       "\n",
       "                                              fighter_url  \n",
       "count                                                4107  \n",
       "unique                                               4107  \n",
       "top     http://ufcstats.com/fighter-details/de45aaae23...  \n",
       "freq                                                    1  "
      ]
     },
     "execution_count": 14,
     "metadata": {},
     "output_type": "execute_result"
    }
   ],
   "source": [
    "fighter_data_pdf = fighter_data.toPandas()\n",
    "\n",
    "null_counts = fighter_data_pdf.isnull().sum()\n",
    "\n",
    "print(null_counts)\n",
    "fighter_data_pdf.describe()\n"
   ]
  },
  {
   "cell_type": "code",
   "execution_count": 15,
   "metadata": {},
   "outputs": [],
   "source": [
    "# Drop irrelavent columns and replace null values\n",
    "# Disqualifications are rare and thus often written incorrectly as null values on fighter's records, as such\n",
    "# these nulled no contest disqulification values should be replaced with zeros.\n",
    "fighter_data = fighter_data.drop(\"fighter_height_cm\", \"fighter_weight_lbs\", \"fighter_reach_cm\", \"fighter_stance\")\n",
    "fighter_data = fighter_data.fillna({\"fighter_nc_dq\": 0})"
   ]
  },
  {
   "cell_type": "code",
   "execution_count": 16,
   "metadata": {},
   "outputs": [],
   "source": [
    "#Cast relevant columns to int to prevent automatic float casting, allowing proper querying.\n",
    "\n",
    "fight_stats = fight_stats \\\n",
    "    .withColumn(\"fight_id\", fight_stats[\"fight_id\"].cast(\"int\")) \\\n",
    "    .withColumn(\"fight_stat_id\", fight_stats[\"fight_stat_id\"].cast(\"int\")) \\\n",
    "    .withColumn(\"fighter_id\", fight_stats[\"fighter_id\"].cast(\"int\")) \\\n",
    "    .withColumn(\"submission_att\", fight_stats[\"submission_att\"].cast(\"int\")) \\\n",
    "    .withColumn(\"knockdowns\", fight_stats[\"knockdowns\"].cast(\"int\"))\n",
    "\n",
    "fight_data = fight_data \\\n",
    "    .withColumn(\"fight_id\", fight_data[\"fight_id\"].cast(\"int\")) \\\n",
    "    .withColumn(\"winner\", fight_data[\"winner\"].cast(\"int\")) \n",
    "\n",
    "fighter_data = fighter_data \\\n",
    "    .withColumn(\"fighter_id\", fighter_data[\"fighter_id\"].cast(\"int\"))\n"
   ]
  },
  {
   "cell_type": "markdown",
   "metadata": {},
   "source": [
    "<h1>Write cleaned data tables to HDFS</h1>"
   ]
  },
  {
   "cell_type": "code",
   "execution_count": 17,
   "metadata": {},
   "outputs": [],
   "source": [
    "#Write cleaned data tables to HDFS\n",
    "\n",
    "event_data.write \\\n",
    "        .mode(\"overwrite\") \\\n",
    "        .parquet('hdfs://namenode:9000/cleaned_event_data.csv')\n",
    "\n",
    "fight_data.write \\\n",
    "        .mode(\"overwrite\") \\\n",
    "        .parquet('hdfs://namenode:9000/cleaned_fight_data.csv')\n",
    "\n",
    "fight_stats.write \\\n",
    "        .mode(\"overwrite\") \\\n",
    "        .parquet('hdfs://namenode:9000/cleaned_fight_stats.csv')\n",
    "\n",
    "fighter_data.write \\\n",
    "        .mode(\"overwrite\") \\\n",
    "        .parquet('hdfs://namenode:9000/cleaned_fighter_data.csv')"
   ]
  },
  {
   "cell_type": "code",
   "execution_count": 18,
   "metadata": {},
   "outputs": [],
   "source": [
    "event_data.createOrReplaceTempView(\"event_data\")\n",
    "fight_data.createOrReplaceTempView(\"fight_data\")\n",
    "fight_stats.createOrReplaceTempView(\"fight_stats\")\n",
    "fighter_data.createOrReplaceTempView(\"fighter_data\")"
   ]
  },
  {
   "cell_type": "markdown",
   "metadata": {},
   "source": [
    "<h1>Fight Result Analaysis:</h1>"
   ]
  },
  {
   "cell_type": "code",
   "execution_count": null,
   "metadata": {},
   "outputs": [],
   "source": [
    "finish_rate_by_year = spark.sql(\"\"\"\n",
    "    SELECT \n",
    "        YEAR(event_date) AS year,\n",
    "        COUNT(CASE WHEN f.result = 'KO/TKO' OR f.result = 'Submission' THEN 1 END) AS total_finishes,\n",
    "        COUNT(f.fight_id) AS total_fights,\n",
    "        (COUNT(CASE WHEN f.result = 'KO/TKO' OR f.result = 'Submission' THEN 1 END) / NULLIF(COUNT(f.fight_id), 0)) * 100 AS finish_rate\n",
    "    FROM \n",
    "        fight_data f\n",
    "    JOIN \n",
    "        event_data e ON f.event_id = e.event_id\n",
    "    GROUP BY \n",
    "        YEAR(e.event_date)\n",
    "    ORDER BY \n",
    "        year\n",
    "\"\"\")\n",
    "\n",
    "finish_rate_by_year_pd = finish_rate_by_year.toPandas()\n"
   ]
  },
  {
   "cell_type": "code",
   "execution_count": null,
   "metadata": {
    "scrolled": true
   },
   "outputs": [],
   "source": [
    "sns.set(style=\"whitegrid\")\n",
    "plt.figure(figsize=(12, 6))\n",
    "sns.barplot(x='year', y='finish_rate', data=finish_rate_by_year_pd, palette='viridis')\n",
    "\n",
    "\n",
    "plt.title('Finish Rates by Year', fontsize=16)\n",
    "plt.xlabel('Year', fontsize=14)\n",
    "plt.ylabel('Finish Rate (%)', fontsize=14)\n",
    "\n",
    "\n",
    "plt.xticks(rotation=45)\n",
    "plt.tight_layout()\n",
    "plt.show()"
   ]
  },
  {
   "cell_type": "markdown",
   "metadata": {},
   "source": [
    "<p><b>We can see that the odds of a fight ending by submission or knockout has reduced in recent years, making it a less reliable bet that an upcoming fight will end by finish.</b></p>"
   ]
  },
  {
   "cell_type": "markdown",
   "metadata": {},
   "source": [
    "<h1>Submission Accuracy Analysis:</h1>"
   ]
  },
  {
   "cell_type": "code",
   "execution_count": null,
   "metadata": {
    "scrolled": true
   },
   "outputs": [],
   "source": [
    "\n",
    "def calc_subs(fighter_name):\n",
    "    \n",
    "    if fighter_name == \"\":\n",
    "    \n",
    "        subs = spark.sql(\"\"\"\n",
    "            SELECT \n",
    "                fd.fighter_f_name, \n",
    "                fd.fighter_l_name, \n",
    "                SUM(fs.submission_att) AS total_sub_attempts,\n",
    "                SUM(CASE \n",
    "                    WHEN f.winner = fs.fighter_id AND f.result = 'Submission' THEN 1 ELSE 0 END) AS successful_subs,\n",
    "                (SUM(CASE \n",
    "                    WHEN f.winner = fs.fighter_id AND f.result = 'Submission' THEN 1 ELSE 0 END) * 100.0) / NULLIF(SUM(fs.submission_att), 0) AS submission_accuracy\n",
    "            FROM fight_stats fs\n",
    "            JOIN fight_data f ON fs.fight_id = f.fight_id\n",
    "            LEFT JOIN fighter_data fd ON fs.fighter_id = fd.fighter_id\n",
    "            GROUP BY fd.fighter_f_name, fd.fighter_l_name\n",
    "            HAVING successful_subs > 0 AND total_sub_attempts > 0\n",
    "            ORDER BY successful_subs DESC\n",
    "            LIMIT 10\n",
    "            \"\"\")\n",
    "    else:\n",
    "        try:\n",
    "                f_name, l_name = fighter_name.split()\n",
    "                subs = spark.sql(f\"\"\"\n",
    "                    SELECT \n",
    "                        fd.fighter_f_name, \n",
    "                        fd.fighter_l_name, \n",
    "                        SUM(fs.submission_att) AS total_sub_attempts,\n",
    "                        SUM(CASE \n",
    "                            WHEN f.winner = fs.fighter_id AND f.result = 'Submission' THEN 1 ELSE 0 END) AS successful_subs,\n",
    "                        (SUM(CASE \n",
    "                            WHEN f.winner = fs.fighter_id AND f.result = 'Submission' THEN 1 ELSE 0 END) * 100.0) / NULLIF(SUM(fs.submission_att), 0) AS submission_accuracy\n",
    "                    FROM fight_stats fs\n",
    "                    JOIN fight_data f ON fs.fight_id = f.fight_id\n",
    "                    LEFT JOIN fighter_data fd ON fs.fighter_id = fd.fighter_id\n",
    "                    WHERE fd.fighter_f_name = '{f_name}' AND fd.fighter_l_name = '{l_name}'\n",
    "                    GROUP BY fd.fighter_f_name, fd.fighter_l_name\n",
    "                    HAVING successful_subs > 0 AND total_sub_attempts > 0\n",
    "                    ORDER BY successful_subs DESC\n",
    "                    LIMIT 10\n",
    "                \"\"\")\n",
    "        except ValueError:\n",
    "                return \"Error: Please provide both first and last name for the fighter.\"\n",
    "\n",
    "    return subs\n",
    "\n",
    "subs = calc_subs(\"\").toPandas()\n",
    "\n",
    "table = PrettyTable()\n",
    "\n",
    "# Add columns\n",
    "table.field_names = [\"First Name\", \"Last Name\", \"Submission Attempts\", \"Successful Submissions\", \"Submission Accuracy\"]\n",
    "\n",
    "# Add rows\n",
    "for row in subs.itertuples(index=False):\n",
    "    table.add_row(row)\n",
    "    \n",
    "print(table)"
   ]
  },
  {
   "cell_type": "code",
   "execution_count": null,
   "metadata": {},
   "outputs": [],
   "source": [
    "subs = calc_subs(\"Dustin Poirier\").toPandas()\n",
    "table = PrettyTable()\n",
    "\n",
    "# Add columns\n",
    "table.field_names = [\"First Name\", \"Last Name\", \"Submission Attempts\", \"Successful Submissions\", \"Submission Accuracy\"]\n",
    "\n",
    "# Add rows\n",
    "for row in subs.itertuples(index=False):\n",
    "    table.add_row(row)\n",
    "    \n",
    "print(table)"
   ]
  },
  {
   "cell_type": "markdown",
   "metadata": {},
   "source": [
    "<p><b>For fighter Dustin Poirier, we can see that his total submissions and submission accuracy is relatively low making it a less reliable bet that he will score a submission win.</b></p>"
   ]
  },
  {
   "cell_type": "markdown",
   "metadata": {},
   "source": [
    "<h1>Knockdown Rate Analysis:</h1>"
   ]
  },
  {
   "cell_type": "code",
   "execution_count": null,
   "metadata": {
    "scrolled": true
   },
   "outputs": [],
   "source": [
    "def calc_knockdowns(fighter_name):\n",
    "\n",
    "    if fighter_name == \"\":\n",
    "        knockdown_rate = spark.sql(\"\"\"\n",
    "            SELECT \n",
    "                fd.fighter_f_name, \n",
    "                fd.fighter_l_name,\n",
    "                SUM(fs.knockdowns) AS total_knockdowns,\n",
    "                COUNT(fs.fight_id) AS total_fights,\n",
    "                (SUM(fs.knockdowns) * 1.0 / COUNT(fs.fight_id)) AS knockdown_rate\n",
    "            FROM fight_stats fs\n",
    "            JOIN fighter_data fd ON fs.fighter_id = fd.fighter_id\n",
    "            GROUP BY fd.fighter_f_name, fd.fighter_l_name\n",
    "            HAVING total_fights > 5\n",
    "            ORDER BY knockdown_rate DESC\n",
    "            LIMIT 10\n",
    "            \"\"\")\n",
    "        \n",
    "    else:\n",
    "        try:\n",
    "            f_name, l_name = fighter_name.split()\n",
    "            knockdown_rate = spark.sql(f\"\"\"\n",
    "            SELECT \n",
    "                fd.fighter_f_name, \n",
    "                fd.fighter_l_name,\n",
    "                SUM(fs.knockdowns) AS total_knockdowns,\n",
    "                COUNT(fs.fight_id) AS total_fights,\n",
    "                (SUM(fs.knockdowns) * 1.0 / COUNT(fs.fight_id)) AS knockdown_rate\n",
    "            FROM fight_stats fs\n",
    "            JOIN fighter_data fd ON fs.fighter_id = fd.fighter_id\n",
    "            WHERE fd.fighter_f_name = '{f_name}' AND fd.fighter_l_name = '{l_name}'\n",
    "            GROUP BY fd.fighter_f_name, fd.fighter_l_name\n",
    "            HAVING total_fights > 5\n",
    "            ORDER BY knockdown_rate DESC\n",
    "            LIMIT 10\n",
    "            \"\"\")\n",
    "        except ValueError:\n",
    "            return \"Error: Please provide both first and last name for the fighter.\"\n",
    "\n",
    "    return knockdown_rate\n",
    "\n",
    "knockdowns = calc_knockdowns(\"\").toPandas()\n",
    "\n",
    "table = PrettyTable()\n",
    "\n",
    "table.field_names = [\"First Name\", \"Last Name\", \"Total Knockdowns\", \"Total Fights\", \"Knockdown Rate\"]\n",
    "\n",
    "for row in knockdowns.itertuples(index=False):\n",
    "    table.add_row(row)\n",
    "    \n",
    "print(table)"
   ]
  },
  {
   "cell_type": "code",
   "execution_count": null,
   "metadata": {
    "scrolled": true
   },
   "outputs": [],
   "source": [
    "knockdowns = calc_knockdowns(\"Dustin Poirier\").toPandas()\n",
    "\n",
    "table = PrettyTable()\n",
    "\n",
    "table.field_names = [\"First Name\", \"Last Name\", \"Total Knockdowns\", \"Total Fights\", \"Knockdown Rate\"]\n",
    "\n",
    "for row in knockdowns.itertuples(index=False):\n",
    "    table.add_row(row)\n",
    "    \n",
    "print(table)"
   ]
  },
  {
   "cell_type": "markdown",
   "metadata": {},
   "source": [
    "<p><b>For fighter Dustin Poirier, we can see that he has a reliatvely high knockdown rate across his fights making it a reasonable bet that he will score a knockdown in his upcoming fight.</b></p>"
   ]
  },
  {
   "cell_type": "markdown",
   "metadata": {},
   "source": [
    "<h1>Age/Success Win Rate Analysis:</h1>"
   ]
  },
  {
   "cell_type": "code",
   "execution_count": null,
   "metadata": {},
   "outputs": [],
   "source": [
    "\n",
    "\n",
    "win_rate_by_age_query = \"\"\"\n",
    "SELECT \n",
    "    YEAR(e.event_date) - YEAR(fd.fighter_dob) AS age_at_fight,\n",
    "    SUM(CASE WHEN f.winner = fs.fighter_id THEN 1 ELSE 0 END) AS wins,\n",
    "    COUNT(f.fight_id) AS total_fights,\n",
    "    (SUM(CASE WHEN f.winner = fs.fighter_id THEN 1 ELSE 0 END) * 100.0) / COUNT(f.fight_id) AS win_rate\n",
    "FROM fight_stats fs\n",
    "JOIN fight_data f ON fs.fight_id = f.fight_id\n",
    "JOIN fighter_data fd ON fs.fighter_id = fd.fighter_id\n",
    "JOIN event_data e ON f.event_id = e.event_id\n",
    "WHERE fd.fighter_dob IS NOT NULL AND e.event_date IS NOT NULL\n",
    "GROUP BY age_at_fight\n",
    "ORDER BY age_at_fight\n",
    "\"\"\"\n",
    "win_rate_by_age = spark.sql(win_rate_by_age_query)"
   ]
  },
  {
   "cell_type": "code",
   "execution_count": null,
   "metadata": {
    "scrolled": true
   },
   "outputs": [],
   "source": [
    "win_rate_by_age_df = win_rate_by_age.toPandas()\n",
    "\n",
    "# Plot the data\n",
    "plt.figure(figsize=(10,6))\n",
    "plt.plot(win_rate_by_age_df['age_at_fight'], win_rate_by_age_df['win_rate'], marker='o', color='b')\n",
    "plt.title('Win Rate by Fighter\\'s Age at Fight')\n",
    "plt.xlabel('Age at Fight')\n",
    "plt.ylabel('Win Rate (%)')\n",
    "plt.grid(True)\n",
    "plt.show()\n"
   ]
  },
  {
   "cell_type": "markdown",
   "metadata": {},
   "source": [
    "<p><b>We can see that win rate typically goes down as fighers age, with a very eratic success rates at higher ages.</b></p>"
   ]
  },
  {
   "cell_type": "code",
   "execution_count": null,
   "metadata": {},
   "outputs": [],
   "source": [
    "win_rate_by_age_query = \"\"\"\n",
    "SELECT \n",
    "    YEAR(e.event_date) - YEAR(fd.fighter_dob) AS age_at_fight,\n",
    "    SUM(CASE WHEN f.winner = fs.fighter_id THEN 1 ELSE 0 END) AS wins,\n",
    "    COUNT(f.fight_id) AS total_fights,\n",
    "    (SUM(CASE WHEN f.winner = fs.fighter_id THEN 1 ELSE 0 END) * 100.0) / COUNT(f.fight_id) AS win_rate\n",
    "FROM fight_stats fs\n",
    "JOIN fight_data f ON fs.fight_id = f.fight_id\n",
    "JOIN fighter_data fd ON fs.fighter_id = fd.fighter_id\n",
    "JOIN event_data e ON f.event_id = e.event_id\n",
    "WHERE fd.fighter_dob IS NOT NULL \n",
    "  AND e.event_date IS NOT NULL\n",
    "  AND fd.fighter_f_name = \"Dustin\"\n",
    "  AND fd.fighter_l_name = \"Poirier\"\n",
    "GROUP BY age_at_fight\n",
    "ORDER BY age_at_fight\n",
    "\"\"\"\n",
    "win_rate_by_age = spark.sql(win_rate_by_age_query)"
   ]
  },
  {
   "cell_type": "code",
   "execution_count": null,
   "metadata": {},
   "outputs": [],
   "source": [
    "win_rate_by_age_pd = win_rate_by_age.toPandas()\n",
    "\n",
    "\n",
    "plt.figure(figsize=(10, 8))\n",
    "plt.plot(win_rate_by_age_pd['age_at_fight'], win_rate_by_age_pd['win_rate'], marker='o', linestyle='-')\n",
    "\n",
    "plt.title('Win Rate by Age for Dustin Poirier')\n",
    "plt.xlabel('Age at Fight')\n",
    "plt.ylabel('Win Rate (%)')\n",
    "plt.xticks(win_rate_by_age_pd['age_at_fight'])\n",
    "plt.grid()\n",
    "plt.ylim(-1, 120)\n",
    "plt.legend()\n",
    "plt.show()"
   ]
  },
  {
   "cell_type": "markdown",
   "metadata": {},
   "source": [
    "<p><b>We can see that for Dustin Poirier, his win rate has been quite high in his younger years, but encountered lower success rates more in recent years making it an unreliable bet that he will win his next fight.</b></p>"
   ]
  }
 ],
 "metadata": {
  "kernelspec": {
   "display_name": "Python 3",
   "language": "python",
   "name": "python3"
  },
  "language_info": {
   "codemirror_mode": {
    "name": "ipython",
    "version": 3
   },
   "file_extension": ".py",
   "mimetype": "text/x-python",
   "name": "python",
   "nbconvert_exporter": "python",
   "pygments_lexer": "ipython3",
   "version": "3.8.6"
  }
 },
 "nbformat": 4,
 "nbformat_minor": 4
}
